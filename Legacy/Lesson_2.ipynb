{
  "nbformat": 4,
  "nbformat_minor": 0,
  "metadata": {
    "colab": {
      "name": "Lesson 2.ipynb",
      "version": "0.3.2",
      "provenance": [],
      "include_colab_link": true
    },
    "kernelspec": {
      "name": "python3",
      "display_name": "Python 3"
    }
  },
  "cells": [
    {
      "cell_type": "markdown",
      "metadata": {
        "id": "view-in-github",
        "colab_type": "text"
      },
      "source": [
        "<a href=\"https://colab.research.google.com/github/How-to-Learn-to-Code/python-class/blob/master/Lesson_2.ipynb\" target=\"_parent\"><img src=\"https://colab.research.google.com/assets/colab-badge.svg\" alt=\"Open In Colab\"/></a>"
      ]
    },
    {
      "cell_type": "markdown",
      "metadata": {
        "id": "T5WJjJnfpZWM",
        "colab_type": "text"
      },
      "source": [
        "## Lesson 2 - Data structures and reading and writing data\n",
        "Learning objectives: Students will be able to import data from csv files and compare and\n",
        "contrast basic data structures.\n",
        "Specific coding skills:\n",
        "* data structures (lists, dictionaries, pandas data frame)\n",
        "* libraries\n",
        "* installing and loading the pandas library\n",
        "* file paths and making new files and directories\n",
        "* import data from csv file (`pandas.read_csv()`)\n",
        "* export data to csv file (`pandas.DataFrame.to_csv()`)"
      ]
    },
    {
      "cell_type": "markdown",
      "metadata": {
        "id": "L7kujO9M3V0X",
        "colab_type": "text"
      },
      "source": [
        "### Introduction\n",
        "Data structures are basically just that - they are structures which can hold some data together. In other words, they are used to store a collection of related data. These are particularly helpful when working with experimental data sets. \n",
        "\n",
        "There are four built-in data structures in Python - list, tuple, dictionary and set. In this class we will focus on built-in lists and dictionaries as well as data frames from the pandas library. \n",
        "\n",
        "### Built-in data structures"
      ]
    },
    {
      "cell_type": "markdown",
      "metadata": {
        "id": "2mcXMmme9jbI",
        "colab_type": "text"
      },
      "source": [
        "#### Lists\n",
        "\n",
        "A `list` is a data structure that holds an ordered collection of items i.e. you can store a sequence of items in a list. This is easy to imagine if you can think of a shopping list where you have a list of items to buy, except that you probably have each item on a separate line in your shopping list whereas in Python you put commas in between them.\n",
        "\n",
        "The list of items should be enclosed in square brackets so that Python understands that you are specifying a list. Once you have created a list, you can add, remove or search for items in the list. Since we can add and remove items, we say that a list is a mutable data type i.e. this type can be altered (source: [data structures](https://python.swaroopch.com/data_structures.html)).\n",
        "\n",
        "Below is an example of a list containing three different DNA sequences."
      ]
    },
    {
      "cell_type": "code",
      "metadata": {
        "id": "jlcZE-UfpPmZ",
        "colab_type": "code",
        "colab": {}
      },
      "source": [
        "DNAlist = ['AACTCACCG', 'GCAACTCG', 'TTCAGGCA']\n",
        "print(DNAlist)"
      ],
      "execution_count": 0,
      "outputs": []
    },
    {
      "cell_type": "markdown",
      "metadata": {
        "id": "hMbUSPGD-t8Y",
        "colab_type": "text"
      },
      "source": [
        "A list is an example of usage of *objects* and *classes*. When we use a variable `i` and assign a value to it, say integer `5` to it, you can think of it as creating an object (i.e. instance) `i` of class (i.e. type) `int`. \n",
        "\n",
        "A class can also have *methods* i.e. functions defined for use with respect to that class only. You can use these pieces of functionality only when you have an object of that class. For example, Python provides an `append` method for the `list` class which allows you to add an item to the end of the list (source: [data structures](https://python.swaroopch.com/data_structures.html)).\n",
        "\n",
        "To illustrate this let's add '`GGCTACAAC`' to our list `DNAlist`."
      ]
    },
    {
      "cell_type": "code",
      "metadata": {
        "id": "BaKjwy27AYGF",
        "colab_type": "code",
        "colab": {}
      },
      "source": [
        "DNAlist.append('GGCTACAAC')\n",
        "print(DNAlist)"
      ],
      "execution_count": 0,
      "outputs": []
    },
    {
      "cell_type": "markdown",
      "metadata": {
        "id": "TjAtFPlwAggI",
        "colab_type": "text"
      },
      "source": [
        "Now you try make a list called `numList` containing even numbers between 6 and 18."
      ]
    },
    {
      "cell_type": "code",
      "metadata": {
        "id": "CjYrG60WA1WH",
        "colab_type": "code",
        "colab": {}
      },
      "source": [
        "numList = [6,8,10,12,14,16,18]"
      ],
      "execution_count": 0,
      "outputs": []
    },
    {
      "cell_type": "markdown",
      "metadata": {
        "id": "Xe3RLwE3A7q1",
        "colab_type": "text"
      },
      "source": [
        "Now add the number 20 to the list."
      ]
    },
    {
      "cell_type": "code",
      "metadata": {
        "id": "b5-h5tutBGpF",
        "colab_type": "code",
        "colab": {}
      },
      "source": [
        "numList.append(20)\n",
        "print(numList)"
      ],
      "execution_count": 0,
      "outputs": []
    },
    {
      "cell_type": "markdown",
      "metadata": {
        "id": "Y7hKOjYPBGMd",
        "colab_type": "text"
      },
      "source": [
        "You can use the function `len()` to find the length (i.e. number of entries) of a list. Use this function to find the length of `numList`."
      ]
    },
    {
      "cell_type": "code",
      "metadata": {
        "id": "tMu5JaQzBdpF",
        "colab_type": "code",
        "colab": {}
      },
      "source": [
        "len(numList)"
      ],
      "execution_count": 0,
      "outputs": []
    },
    {
      "cell_type": "markdown",
      "metadata": {
        "id": "sbLhhtDPBw_M",
        "colab_type": "text"
      },
      "source": [
        "#### Dictionaries\n",
        "A dictionary is like an address-book where you can find the address or contact details of a person by knowing only his/her name i.e. we associate keys (name) with values (details). Note that the key must be unique just like you cannot find out the correct information if you have two persons with the exact same name.\n",
        "\n",
        "Note that you can use only immutable objects (like strings) for the keys of a dictionary but you can use either immutable or mutable objects for the values of the dictionary.\n",
        "\n",
        "Pairs of keys and values are specified in a dictionary by using the notation `d = {key1 : value1, key2 : value2 }`. Notice that the key-value pairs are separated by a colon and the pairs are separated themselves by commas and all this is enclosed in a pair of curly braces.\n",
        "\n",
        "Remember that key-value pairs in a dictionary are not ordered in any manner. If you want a particular order, then you will have to sort them yourself before using it (source: [data structures](https://python.swaroopch.com/data_structures.html)).\n",
        "\n",
        "The following example of a dictionary might be useful if you wanted to keep track of ages of patients in a clinical trial. "
      ]
    },
    {
      "cell_type": "code",
      "metadata": {
        "id": "PL68GxZAFKit",
        "colab_type": "code",
        "colab": {}
      },
      "source": [
        "agesDict = {'Karen P.' : 53, 'Jessica M.': 47, 'David G.' : 45, 'Susan K.' : 57, 'Eric O.' : 50}\n",
        "print(agesDict)"
      ],
      "execution_count": 0,
      "outputs": []
    },
    {
      "cell_type": "markdown",
      "metadata": {
        "id": "XHPHnUZuFJ4B",
        "colab_type": "text"
      },
      "source": [
        "Now make your own dictionary called `dosesDict` with the following information about doses (in mg/day) for the clinical trial. \n",
        "\n",
        "\n",
        "\n",
        "*   Placebo : 0\n",
        "*   Dose 1 : 20\n",
        "*   Dose 2 : 40\n",
        "*   Dose 3 : 60\n",
        "\n",
        "\n"
      ]
    },
    {
      "cell_type": "code",
      "metadata": {
        "id": "4RiXRxYLG8TF",
        "colab_type": "code",
        "colab": {}
      },
      "source": [
        "dosesDict = {'Placebo' : 0, 'Dose 1' : 20, 'Dose 2' : 40, 'Dose 3' : 60}\n",
        "print(dosesDict)"
      ],
      "execution_count": 0,
      "outputs": []
    },
    {
      "cell_type": "markdown",
      "metadata": {
        "id": "WQkaT4IqItdT",
        "colab_type": "text"
      },
      "source": [
        "### Libraries\n",
        "A python library is a collection of functions and methods that allows you to perform many actions without writing your own code. \n",
        "\n",
        "In this course we will discuss a few libraries including pandas for storing and managing data and seaborn for plotting.\n",
        "\n",
        "Many libraries come installed with anaconda including both pandas and seaborn. However, these libraries are not imported when you open a jupyter notebook, so we have to tell python which libraries we would like to use.\n",
        "\n",
        "This is how you import the pandas library"
      ]
    },
    {
      "cell_type": "code",
      "metadata": {
        "id": "_4uRIZm3Lv-e",
        "colab_type": "code",
        "colab": {}
      },
      "source": [
        "import pandas as pd"
      ],
      "execution_count": 0,
      "outputs": []
    },
    {
      "cell_type": "markdown",
      "metadata": {
        "id": "avWOnU6NLznR",
        "colab_type": "text"
      },
      "source": [
        "We imported the `pandas` library and given it the alias `pd`. This way when we want to use pandas we only have to type `pd`. \n",
        "\n",
        "Let's do the same thing with the `numpy` package. We will want to give it the standard alias `np`. "
      ]
    },
    {
      "cell_type": "code",
      "metadata": {
        "id": "7wpJB0pxMp6k",
        "colab_type": "code",
        "colab": {}
      },
      "source": [
        "import numpy as np"
      ],
      "execution_count": 0,
      "outputs": []
    },
    {
      "cell_type": "markdown",
      "metadata": {
        "id": "kI2k_lVsqWIc",
        "colab_type": "text"
      },
      "source": [
        "### Pandas\n"
      ]
    },
    {
      "cell_type": "markdown",
      "metadata": {
        "id": "npkAAYu7pUhx",
        "colab_type": "text"
      },
      "source": [
        "*pandas* is an open source library providing high-performance, easy-to-use data structures and data analysis tools for the Python programming language. It is built on top of scientific computing library called *numpy*. This means that we have to import both libraries to use pandas. \n",
        "\n",
        "pandas DataFrames can store multiple data types, (ints, floats, strings, etc.). Typically, pandas is useful for analyzing data that have multiple entries in separate rows and different information in each column. While pandas has both Series (1-dimensional) and DataFrame (2-dimensional) classes, we will focus on class. \n",
        "\n",
        "It is possible write code to make DataFrames like we did to learn about lists and dictionaries. However, you will most likely import data directly from a file. \n",
        "\n",
        "The following example loads a BED file. BED files are tab-delimited files with one line for each genomic region. Our file includes the following information about genes. \n",
        "\n",
        "\n",
        "0.   chromosome\n",
        "1.   start position\n",
        "2.   end position\n",
        "3.   name\n",
        "4.   score (zero for all our genomic regions)\n",
        "5.   strand (+ for forward and - for reverse)\n",
        "\n"
      ]
    },
    {
      "cell_type": "code",
      "metadata": {
        "id": "xBZBM4AsQbDg",
        "colab_type": "code",
        "colab": {}
      },
      "source": [
        "df1 = pd.read_csv('https://raw.githubusercontent.com/sksuzuki/How-to-Learn-to-Code-2018/master/data/3/ENCFF239FSU.bed', sep='\\t',header = None)\n",
        "df1.head()"
      ],
      "execution_count": 0,
      "outputs": []
    },
    {
      "cell_type": "markdown",
      "metadata": {
        "id": "h45BgYVaTdgr",
        "colab_type": "text"
      },
      "source": [
        "The first line of code above reads the file from the specified url. Since BED files are tab delimited we use `sep = '\\t'` to define how the file is separated. Additionally, since our file does not have a header we specify `header = None`. The default is to have the first row as the header. The second line prints the header, which is the first five rows of the DataFrame.\n",
        "\n",
        "Right now our DataFrame isn't very easy to interpret. Since we didn't have a header, pandas assigned the column names as numbers."
      ]
    },
    {
      "cell_type": "code",
      "metadata": {
        "id": "DTX_jJ5jQbsM",
        "colab_type": "code",
        "colab": {}
      },
      "source": [
        "df1.columns"
      ],
      "execution_count": 0,
      "outputs": []
    },
    {
      "cell_type": "markdown",
      "metadata": {
        "id": "QLp5iFMwUSut",
        "colab_type": "text"
      },
      "source": [
        "We can assign more descriptive column names by assigning values "
      ]
    },
    {
      "cell_type": "code",
      "metadata": {
        "id": "h8ZafO0JTM1W",
        "colab_type": "code",
        "colab": {}
      },
      "source": [
        "df1.columns = ['chromosome', 'start', 'end', 'gene', 'score', 'strand']\n",
        "df1.head()"
      ],
      "execution_count": 0,
      "outputs": []
    },
    {
      "cell_type": "markdown",
      "metadata": {
        "id": "9Ti0ye9NVIf_",
        "colab_type": "text"
      },
      "source": [
        "We can also sort our DataFrame by column. For example, we can sort by the `gene` column. Note that we are using `.head()` so we only see the first five rows. You can try without to see the entire DataFrame, but it is large! "
      ]
    },
    {
      "cell_type": "code",
      "metadata": {
        "id": "zksd_cAsUsRm",
        "colab_type": "code",
        "colab": {}
      },
      "source": [
        "df1.sort_values(by='gene').head()"
      ],
      "execution_count": 0,
      "outputs": []
    },
    {
      "cell_type": "markdown",
      "metadata": {
        "id": "BIKiaEPmVfuM",
        "colab_type": "text"
      },
      "source": [
        "Now try sorting by chromosome"
      ]
    },
    {
      "cell_type": "code",
      "metadata": {
        "id": "YgZTzQAoVZUX",
        "colab_type": "code",
        "colab": {}
      },
      "source": [
        "df1.sort_values(by='chromosome').head()"
      ],
      "execution_count": 0,
      "outputs": []
    },
    {
      "cell_type": "markdown",
      "metadata": {
        "id": "d1VAWj5hWMER",
        "colab_type": "text"
      },
      "source": [
        "#### Importing from local files\n",
        "\n",
        "You will often want to import data from your own computer instead of a url. Therefore, you need to be able to use file paths to import the file you want. You can think of this as navigating through your files and folders with words. \n",
        "\n",
        "To practice this we are going to import data from the file 'yeastCellCycle.csv' which you can download [here](https://docs.google.com/spreadsheets/d/1pxDYrX59_yEsLdE5rUFDH13cAP50L0jPrrZ16AeCXnQ/edit#gid=1109053608). Make sure to download as csv. You can save the file where ever you want, just make sure you know where it is. \n",
        "\n",
        "This next part is going to be individual for everyone. We need to write the file path for our  'yeastCellCycle.csv'. On the author's computer, this file is located in the following location:\n",
        "\n",
        "> `Desktop`\n",
        "\n",
        ">        rclass\n",
        "\n",
        ">             csvfiles\n",
        "\n",
        ">                  yeastCellCycle.csv\n",
        "\n",
        "File paths are written the same on Mac and Linux operating systems. However, Windows is different. To address these issues we will use the *os* library, which contains functions to get information on local directories, files, processes, and environment variables. We will specifically be using the following two functions from this library:\n",
        "\n",
        "* The os.path.join() function constructs a pathname out of one or more partial pathnames.\n",
        "* The os.path.expanduser() function will expand a pathname that uses ~ to represent the current user's home directory. This works on any platform where users have a home directory, including Linux, Mac OS X, and Windows. \n",
        "\n",
        "The following code will only work if your file is saved in the exact same place. You should change the code below to match the location where you saved the file."
      ]
    },
    {
      "cell_type": "code",
      "metadata": {
        "id": "LkZrshWvVnoS",
        "colab_type": "code",
        "colab": {}
      },
      "source": [
        "import os\n",
        "filepath = os.path.join(os.path.expanduser('~'),'Desktop', 'rclass', 'csvfiles', 'yeastCellCycle.csv')\n",
        "print(filepath)"
      ],
      "execution_count": 0,
      "outputs": []
    },
    {
      "cell_type": "markdown",
      "metadata": {
        "id": "mu0HeOIDfR0d",
        "colab_type": "text"
      },
      "source": [
        "We can now load the data using `pd.read_csv()`. Saving the file path under the variable `filepath` means we don't have to type out that whole path. "
      ]
    },
    {
      "cell_type": "code",
      "metadata": {
        "id": "io-VCzY0Xg4g",
        "colab_type": "code",
        "colab": {}
      },
      "source": [
        "df2 = pd.read_csv(filepath, sep = ',')"
      ],
      "execution_count": 0,
      "outputs": []
    },
    {
      "cell_type": "markdown",
      "metadata": {
        "id": "QSUTvYVvgoMV",
        "colab_type": "text"
      },
      "source": [
        "You have now successfullyimported data to a DataFrame from a csv file on your computer! Now let's learn how to save DataFrames to your computer. The function `pandas.DataFrame.to_csv()` will allow you to do this. If you run the following line `df1` will save as a .csv file called ENCFF239FSU.csv in your current working directory (to figure out what your current working directory is, run `os.getcwd()`). "
      ]
    },
    {
      "cell_type": "code",
      "metadata": {
        "id": "-ls4PgMfXiWF",
        "colab_type": "code",
        "colab": {}
      },
      "source": [
        "df1.to_csv('ENCFF239FSU.csv')"
      ],
      "execution_count": 0,
      "outputs": []
    },
    {
      "cell_type": "markdown",
      "metadata": {
        "id": "1BaVplIPihmd",
        "colab_type": "text"
      },
      "source": [
        "If you want the file to save in a different location you can specify the path to which the file should be saved. "
      ]
    },
    {
      "cell_type": "code",
      "metadata": {
        "id": "sx35TNM_iQTJ",
        "colab_type": "code",
        "colab": {}
      },
      "source": [
        "df1.to_csv(os.path.join(os.path.expanduser('~'),'Desktop', 'rclass', 'csvfiles', 'ENCFF239FSU.csv'))"
      ],
      "execution_count": 0,
      "outputs": []
    },
    {
      "cell_type": "markdown",
      "metadata": {
        "id": "zF7Jdmqoizpf",
        "colab_type": "text"
      },
      "source": [
        "Hopefully, you can see how importing data from and exporting data to csv or other delimiter separated files will be helpful for research. Now it's time to practice your skills with built-in data structures and data frames!"
      ]
    },
    {
      "cell_type": "markdown",
      "metadata": {
        "id": "hOggiwzmMm1Z",
        "colab_type": "text"
      },
      "source": [
        "### Exercises\n",
        "The following exercises will help you better understand lists, dictionaries, and DataFrames.\n",
        "\n",
        "1. Make a list containing the following numbers 1, 4, 25, 7, 9, 12, 15, 16, and 21. \n",
        "\n",
        "2. Find the following information about the list you made in part 1: length, minimum, and maximum. You may need to google to find functions that can help you. \n",
        "\n",
        "3. Make a dictionary that describes the price of five medications. \n",
        ">* Lisinopril: \t23.07\n",
        ">* Gabapentin: 86.27\n",
        ">* Sildenafil: \t169.94 \n",
        ">* Amoxicillin: 17.76\n",
        ">* Prednisone: 13.81\n",
        "\n",
        "4. Create a DataFrame from the file located at https://raw.githubusercontent.com/daynefiler/rclass/master/heights.csv\n",
        "\n",
        "5. Sort the DataFrame from question 4 by height. \n",
        "\n",
        "5. Create a DataFrame from a csv file (or other delimiter separated file) on your computer. If you encounter errors, do your best to google solutions. \n"
      ]
    },
    {
      "cell_type": "code",
      "metadata": {
        "id": "jj1BdK9TiThp",
        "colab_type": "code",
        "colab": {}
      },
      "source": [
        ""
      ],
      "execution_count": 0,
      "outputs": []
    }
  ]
}