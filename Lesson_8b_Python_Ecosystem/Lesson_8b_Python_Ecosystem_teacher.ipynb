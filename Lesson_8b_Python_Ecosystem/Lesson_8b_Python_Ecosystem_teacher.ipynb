{
 "cells": [
  {
   "cell_type": "markdown",
   "id": "ce8e3256-8446-496b-9e35-36bc32b0d6da",
   "metadata": {
    "tags": []
   },
   "source": [
    "# Lesson 8 - Python Ecosystem\n",
    "\n",
    "Don't reinvent the wheel.\n",
    "\n",
    "## Learning objectives \n",
    "1. Importing packages\n",
    "2. Installing packages with pip\n",
    "3. Introduction to conda\n",
    "\n",
    "# Lecture material \n",
    "(<45 minutes)"
   ]
  },
  {
   "cell_type": "markdown",
   "id": "61a758a8-9f15-448e-88a1-8dacd0d9394d",
   "metadata": {
    "colab_type": "text",
    "id": "WQkaT4IqItdT",
    "tags": []
   },
   "source": [
    "### Libraries\n",
    "\n",
    "A python library is a collection of functions and methods that allows you to perform many actions without writing your own code. \n",
    "\n",
    "We have already encountered and learned to use some of the popular libraries: numpy, pandas, matplotlib, and seaborn.\n",
    "\n",
    "Many libraries come installed with anaconda including both pandas and seaborn. However, these libraries are not imported when you open a jupyter notebook, so we have to tell python which libraries we would like to use.\n"
   ]
  },
  {
   "cell_type": "markdown",
   "id": "f93ab78c-2fe5-4176-9f80-9d83b57464de",
   "metadata": {
    "tags": []
   },
   "source": [
    "### Importing Libraries\n",
    "\n",
    "The most basic way to import a libary is to use `import`. The syntax of importing a library is like\n",
    "\n",
    "```python\n",
    "import library_name\n",
    "```\n",
    "\n",
    "We can also use `as` to give an alias.\n",
    "\n",
    "```python\n",
    "import library_name as alias\n",
    "```\n",
    "\n",
    "Now the library can be accessed using the alias. We have already used this approach when importing libraries like pandas, numpy, matplotlib, and seaborn."
   ]
  },
  {
   "cell_type": "code",
   "execution_count": 1,
   "id": "826d060f-6d6c-4428-b0f3-119670c60caf",
   "metadata": {},
   "outputs": [],
   "source": [
    "import numpy as np\n",
    "import pandas as pd\n",
    "import seaborn as sns"
   ]
  },
  {
   "cell_type": "markdown",
   "id": "3827bbe5-5169-4d66-ae82-deaa56b08b42",
   "metadata": {},
   "source": [
    "In the previous lectures we have used pandas data frames. When using a module within a library we use it after the library name and a dot. For example, `pd.DataFrame` or `np.array`.\n",
    "\n",
    "What if we want to use only the specific functions/classes within a module? In that case, we can use `from library import function`. For example, we want to use the `permutation` function from numpy.\n",
    "\n",
    "In that case we can do"
   ]
  },
  {
   "cell_type": "code",
   "execution_count": 5,
   "id": "c2d8d8ce-22fd-4065-ad12-99639bbd840c",
   "metadata": {},
   "outputs": [],
   "source": [
    "from numpy.random import permutation"
   ]
  },
  {
   "cell_type": "markdown",
   "id": "cfb6e10a-9f28-4ea0-9d33-826e52ec8cbe",
   "metadata": {},
   "source": [
    "Now we can use the `permutation` function like we use other functions."
   ]
  },
  {
   "cell_type": "code",
   "execution_count": 6,
   "id": "0641ceff-402a-4e48-ac9b-6b61e619b9c6",
   "metadata": {},
   "outputs": [
    {
     "data": {
      "text/plain": [
       "array([1, 9, 2, 5, 7, 8, 6, 3, 0, 4])"
      ]
     },
     "execution_count": 6,
     "metadata": {},
     "output_type": "execute_result"
    }
   ],
   "source": [
    "permutation(list(range(10)))"
   ]
  },
  {
   "cell_type": "markdown",
   "id": "e1957c1e-2f61-4060-97bf-05cfdcb266f9",
   "metadata": {
    "colab_type": "text",
    "id": "zF7Jdmqoizpf"
   },
   "source": [
    "Hopefully, you can see how importing data from and exporting data to csv or other delimiter separated files will be helpful for research. Now it's time to practice your skills with built-in data structures and data frames!"
   ]
  },
  {
   "cell_type": "markdown",
   "id": "c0ef7450-1da6-4c00-aabc-3b88ca18d6bb",
   "metadata": {},
   "source": [
    "### Python ecosystem\n",
    "\n",
    "One reason why python is such a powerful language is because of the python ecosystem (especially for data science).\n",
    "\n",
    "<img src=\"https://jupytearth.org/_images/python-stack.png\" alt=\"drawing\" width=\"500\"/>"
   ]
  },
  {
   "cell_type": "markdown",
   "id": "c4ec08bc-d3b2-446a-adb4-c0e39a27c0ef",
   "metadata": {
    "tags": []
   },
   "source": [
    "### Installing libaries\n",
    "\n",
    "Now, what if we want to use a new library? In this part, we will learn how to install new libraries. In python, there are package managers like **pip** and **conda** that will make your life easier when installing and removing python libraries. You can go to your terminal and type in:\n",
    "\n",
    "```bash\n",
    "where pip3\n",
    "```\n",
    "\n",
    "to ensure you have `pip3` (`pip` for Python 2) on your machine.\n",
    "\n",
    "The standard way of installing library with pip is:\n",
    "\n",
    "```\n",
    "python3 -m pip install \"library name\"\n",
    "```\n"
   ]
  },
  {
   "cell_type": "markdown",
   "id": "7926d416-b445-4e40-aad9-bccd4f423561",
   "metadata": {},
   "source": [
    "Another awesome and popular package manager is **Anaconda**. Anaconda can be easily installed on to your local machine (windows, linux, and mac) from their [website](https://www.anaconda.com)."
   ]
  },
  {
   "cell_type": "markdown",
   "id": "1b520dd3-fe4b-41b9-a242-479d1f42d688",
   "metadata": {
    "tags": []
   },
   "source": [
    "# In class exercises"
   ]
  },
  {
   "cell_type": "code",
   "execution_count": null,
   "id": "e333738a-df7d-4f7f-a40f-02111eea9711",
   "metadata": {
    "collapsed": true,
    "jupyter": {
     "outputs_hidden": true
    }
   },
   "outputs": [],
   "source": []
  },
  {
   "cell_type": "markdown",
   "id": "248f326a-8a3f-4f9b-8676-3724d66a29a6",
   "metadata": {},
   "source": [
    "# Homework"
   ]
  },
  {
   "cell_type": "code",
   "execution_count": null,
   "id": "c2d256fc-d3d1-433e-afce-329af4c5cf32",
   "metadata": {
    "tags": []
   },
   "outputs": [],
   "source": []
  }
 ],
 "metadata": {
  "kernelspec": {
   "display_name": "Python [conda env:surv] *",
   "language": "python",
   "name": "conda-env-surv-py"
  },
  "language_info": {
   "codemirror_mode": {
    "name": "ipython",
    "version": 3
   },
   "file_extension": ".py",
   "mimetype": "text/x-python",
   "name": "python",
   "nbconvert_exporter": "python",
   "pygments_lexer": "ipython3",
   "version": "3.7.12"
  }
 },
 "nbformat": 4,
 "nbformat_minor": 5
}
