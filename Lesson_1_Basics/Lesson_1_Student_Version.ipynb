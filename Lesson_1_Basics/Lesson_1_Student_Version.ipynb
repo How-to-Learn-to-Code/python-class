{
  "cells": [
    {
      "attachments": {},
      "cell_type": "markdown",
      "metadata": {},
      "source": [
        "[![Open In Colab](https://colab.research.google.com/assets/colab-badge.svg)](https://colab.research.google.com/github/How-to-Learn-to-Code/python-class/blob/master/Lesson_1_Basics/Lesson_1_Student_Version.ipynb)"
      ]
    },
    {
      "attachments": {},
      "cell_type": "markdown",
      "metadata": {},
      "source": [
        "# Lesson 1 – Basic Introduction to Programming in Python: Operators and Data Types"
      ]
    },
    {
      "attachments": {},
      "cell_type": "markdown",
      "metadata": {},
      "source": [
        "### Learning objectives\n",
        "\n",
        "Students will gain an introduction to programming in Python, working in interactive notebooks, and learning how to leverage outside resources for coding help. Moreover, students will gain a basic understanding of variables, data types, and working with simple expressions for comparison and computation.\n",
        "\n",
        "* [Basic math operators: +, -, *, /, **](#math)\n",
        "* [Use of the assignment operator (=)](#assign)\n",
        "* [Data types: integer, float, string, boolean](#data)\n",
        "* [Basic functions: print(), type(), int(), float(), str(), bool()](#function)\n",
        "* [Comparison operators: >, <, ==, >=, <=](#compare)\n",
        "* [In-Class Exercises](#homework)\n"
      ]
    },
    {
      "attachments": {},
      "cell_type": "markdown",
      "metadata": {},
      "source": [
        "#### Basic Introduction to Programming in Python <a id='program'></a>\n",
        "\n",
        "Python is a general-purpose programming language widely used in scientific computing, image analysis, machine learning, and more. It allows you to specify a set of instructions, written as a script or a program, to execute a task of interest.\n",
        "\n",
        "* Have any of you used a script before? How did you run it? What was the purpose of the script? Did it aid in reproducibility? Was it quicker to run or modify than calculating things manually?\n",
        "\n",
        "The purpose of this series of Python workshops is not to give you an extensive, in-depth overview of everything you can do in Python. Instead, we aim to equip you with the skills and terminology necessary to **learn** how to code in Python. Google, [Stack Overflow](https://stackoverflow.com/), and [GitHub Issues](https://github.com/) are invaluable tools you can use to your advantage for (1) gaining coding help and (2) learning how to write code by reading examples."
      ]
    },
    {
      "attachments": {},
      "cell_type": "markdown",
      "metadata": {},
      "source": [
        "#### Introduction to Jupyter Notebooks and Google Colab <a id='jupyter'></a>\n",
        "\n",
        "\"The Jupyter Notebook is an incredibly powerful tool for interactively developing and presenting data science projects. A notebook integrates code and its output into a single document that combines visualizations, narrative text, mathematical equations, and other rich media. The intuitive workflow promotes iterative and rapid development, making notebooks an increasingly popular choice at the heart of contemporary data science, analysis, and increasingly science at large.\" – [Dataquest](https://www.dataquest.io/blog/jupyter-notebook-tutorial/)\n",
        "\n",
        "All of our lessons will be presented in Jupyter notebooks due to their interactive nature (.ipynb file extension). They consist of two main components: a `kernel` and `cells`.\n",
        "\n",
        "* A `kernel` interprets and executes the code. Here we are using the Python kernel; however, you can specify a kernel for another language like R.\n",
        "* A `cell` is a container for either text (Markdown) or code to be executed.\n",
        "\n",
        "To run the Python code in a cell, press **Shift + Enter**. Try it with the code below."
      ]
    },
    {
      "cell_type": "code",
      "execution_count": null,
      "metadata": {
        "quarto": {
          "autorun": false,
          "echo": true,
          "engine": "pyodide"
        }
      },
      "outputs": [],
      "source": [
        "print('hello world')"
      ]
    },
    {
      "attachments": {},
      "cell_type": "markdown",
      "metadata": {},
      "source": [
        "#### Basic math operators: +, -, *, /, ** <a id='math'></a>\n",
        "\n",
        "The simplest way to use Python is as a calculator. You can perform addition, subtraction, division, multiplication, and exponentiation. Let's walk through some simple math calculations.\n",
        "\n",
        "$$2 + 3$$"
      ]
    },
    {
      "cell_type": "code",
      "execution_count": null,
      "metadata": {},
      "outputs": [],
      "source": [
        "2 + 3"
      ]
    },
    {
      "attachments": {},
      "cell_type": "markdown",
      "metadata": {},
      "source": [
        "$$\\frac{6}{2} \\times 20 - 100$$"
      ]
    },
    {
      "cell_type": "code",
      "execution_count": null,
      "metadata": {},
      "outputs": [],
      "source": [
        "6/2 * 20 - 100"
      ]
    },
    {
      "attachments": {},
      "cell_type": "markdown",
      "metadata": {},
      "source": [
        "$$2^{8}$$"
      ]
    },
    {
      "cell_type": "code",
      "execution_count": null,
      "metadata": {},
      "outputs": [],
      "source": [
        "2 ** 8"
      ]
    },
    {
      "attachments": {},
      "cell_type": "markdown",
      "metadata": {},
      "source": [
        "*Was the above result what you expected? If you used `^`, your result would be 10; however, if you used `**`, your result is 256. This demonstrates why it's important to check the answers you get from your code to make sure the results seem reasonable. You might not always get an error when your code is incorrect.*"
      ]
    },
    {
      "attachments": {},
      "cell_type": "markdown",
      "metadata": {},
      "source": [
        "#### Use of the assignment operator (=) <a id='assign'></a>\n",
        "\n",
        "What if you want to store some value (like the result of the above calculation) and use it for another task later? You can assign it to a variable with the assignment operator `=`.\n",
        "\n",
        "For example, let's assign the value 22 to the variable `x`:"
      ]
    },
    {
      "cell_type": "code",
      "execution_count": null,
      "metadata": {},
      "outputs": [],
      "source": [
        "x = 22"
      ]
    },
    {
      "attachments": {},
      "cell_type": "markdown",
      "metadata": {},
      "source": [
        "Notice that the code above did not display any output. That's because the value is now stored in the variable called `x`."
      ]
    },
    {
      "cell_type": "code",
      "execution_count": null,
      "metadata": {},
      "outputs": [],
      "source": [
        "x"
      ]
    },
    {
      "attachments": {},
      "cell_type": "markdown",
      "metadata": {},
      "source": [
        "Try assigning the values 1, 2, and 3 to the variables `x`, `y`, and `z`, respectively."
      ]
    },
    {
      "cell_type": "code",
      "execution_count": null,
      "metadata": {},
      "outputs": [],
      "source": [
        "x = 1\n",
        "y = 2\n",
        "z = 3"
      ]
    },
    {
      "attachments": {},
      "cell_type": "markdown",
      "metadata": {},
      "source": [
        "If you'd like to see what the values of the variables are, you can use the `print()` function. The input to the function (what goes inside the parentheses) is whatever you'd like to display to the terminal."
      ]
    },
    {
      "cell_type": "code",
      "execution_count": null,
      "metadata": {},
      "outputs": [],
      "source": [
        "print(x)\n",
        "print(y)\n",
        "print(z)"
      ]
    },
    {
      "attachments": {},
      "cell_type": "markdown",
      "metadata": {},
      "source": [
        "Once you have variables assigned, you can use them to do basic operations. For example, try calculating the following. Be sure to use the assignment operator when necessary and print your results to check that they make sense.\n",
        "\n",
        "1. Assign the variable `a` to the result of $4 + 5 \\times 2$.\n",
        "2. Compute $5 + a$.\n",
        "3. Assign the variable `b` to the result of $\\frac{a}{2.5}$."
      ]
    },
    {
      "cell_type": "code",
      "execution_count": null,
      "metadata": {},
      "outputs": [],
      "source": [
        "a = 4 + 5 * 2\n",
        "print(a)\n",
        "print(5 + a)\n",
        "b = a / 2.5\n",
        "print(b)"
      ]
    },
    {
      "attachments": {},
      "cell_type": "markdown",
      "metadata": {},
      "source": [
        "**Of note**, you can name a variable almost anything you'd like (though it's best to be descriptive for you and others who end up reading your code). However, a variable name must start with a letter and *not* a number. For fun, try assigning the value 3 to a variable called `variable1` and see the result."
      ]
    },
    {
      "cell_type": "code",
      "execution_count": null,
      "metadata": {},
      "outputs": [],
      "source": [
        "variable1 = 3\n",
        "print(variable1)"
      ]
    },
    {
      "attachments": {},
      "cell_type": "markdown",
      "metadata": {},
      "source": [
        "#### Data types: integer, float, string, boolean <a id='data'></a>\n",
        "\n",
        "Programming languages often include different data types that can be used for various tasks (e.g., arithmetic, comparison, debugging). Here we'll discuss four of the most common types:\n",
        "1. **integer**: whole number\n",
        "2. **float**: decimal number\n",
        "3. **string**: text\n",
        "4. **boolean**: True or False"
      ]
    },
    {
      "attachments": {},
      "cell_type": "markdown",
      "metadata": {},
      "source": [
        "**Integers**<br>\n",
        "\n",
        "Integers are positive or negative whole numbers with no decimal point. We've already been using them in today's lesson. For example, print the variables `x`, `y`, `z`, and `a`."
      ]
    },
    {
      "cell_type": "code",
      "execution_count": null,
      "metadata": {},
      "outputs": [],
      "source": [
        "print(x)\n",
        "print(y)\n",
        "print(z)\n",
        "print(a)"
      ]
    },
    {
      "attachments": {},
      "cell_type": "markdown",
      "metadata": {},
      "source": [
        "**Floats**<br>\n",
        "\n",
        "Floats, short for floating-point values, are positive or negative numbers with decimals. As with integers, you can use them to do arithmetic or assign them to variables. Try defining and printing the following expressions:\n",
        "\n",
        "* Assign `f1 = 4.5`\n",
        "* Assign `f2 = -3.0`\n",
        "* Compute `f1 + f2`"
      ]
    },
    {
      "cell_type": "code",
      "execution_count": null,
      "metadata": {},
      "outputs": [],
      "source": [
        "f1 = 4.5\n",
        "f2 = -3.0\n",
        "print(f1 + f2)"
      ]
    },
    {
      "attachments": {},
      "cell_type": "markdown",
      "metadata": {},
      "source": [
        "**Strings**<br>\n",
        "\n",
        "Strings refer to text (i.e., they’re a series of characters) and can be (1) assigned to variables for data manipulation or (2) used in print statements for debugging or monitoring tasks. You define them by placing the text within single or double quotation marks, as in:"
      ]
    },
    {
      "cell_type": "code",
      "execution_count": null,
      "metadata": {},
      "outputs": [],
      "source": [
        "oligo1 = 'GCGCTCAAT'\n",
        "oligo2 = 'TACTAGGCA'\n",
        "print(oligo1, oligo2)\n",
        "print('String variable 1 is', oligo1)"
      ]
    },
    {
      "attachments": {},
      "cell_type": "markdown",
      "metadata": {},
      "source": [
        "**Booleans**<br>\n",
        "\n",
        "Booleans are either `True` or `False`. Note the capitalization of the first letter. They are often used for comparisons (e.g., the output of `1 > 2` would be `False`). Additionally, keep in mind that `True` behaves as 1 and `False` behaves as 0 in arithmetic operations."
      ]
    },
    {
      "cell_type": "code",
      "execution_count": null,
      "metadata": {},
      "outputs": [],
      "source": [
        "t = True\n",
        "f = False\n",
        "\n",
        "print(2 * t)\n",
        "print(2 * f)"
      ]
    },
    {
      "attachments": {},
      "cell_type": "markdown",
      "metadata": {},
      "source": [
        "#### Comparison operators: >, <, ==, >=, <= <a id='compare'></a>\n",
        "\n",
        "Comparison operators (`>`, `<`, `==`, `>=`, `<=`) can be used to compare two expressions. The output of a comparison is a Boolean (`True` or `False`). We often use comparison operators to set up conditional statements (e.g., \"If this comparison is True, then do something; if it’s False, do something else\"). You'll learn more about conditional statements in Lesson 2.\n",
        "\n",
        "Let's set up a few comparisons and use print statements to see the results:\n",
        "\n",
        "`print(2 > 1.5)`\n",
        "`print(4 <= 2)`\n",
        "`print(5 == 5.0)`\n",
        "`print(6 >= 6)`\n",
        "`print(7.4 < 3)`"
      ]
    },
    {
      "cell_type": "code",
      "execution_count": null,
      "metadata": {},
      "outputs": [],
      "source": [
        "print(2 > 1.5)\n",
        "print(4 <= 2)\n",
        "print(5 == 5.0)\n",
        "print(6 >= 6)\n",
        "print(7.4 < 3)"
      ]
    },
    {
      "attachments": {},
      "cell_type": "markdown",
      "metadata": {},
      "source": [
        "#### Basic functions: type(), int(), float(), str(), bool() <a id='function'></a>\n",
        "\n",
        "We've already started using one basic function, `print()`. Each function has a purpose: it takes whatever is specified within the parentheses (the arguments), performs a task, and then outputs the result. Functions are extraordinarily useful for reproducible code, and you'll learn more about them in Lesson 3.\n",
        "\n",
        "For now, let's explore some other basic functions. The function `type()` returns the data type of the argument you give it. See the example below."
      ]
    },
    {
      "cell_type": "code",
      "execution_count": null,
      "metadata": {},
      "outputs": [],
      "source": [
        "print(type(2.1))\n",
        "print(type('hello world'))\n",
        "print(type(1))\n",
        "print(type(True))"
      ]
    },
    {
      "attachments": {},
      "cell_type": "markdown",
      "metadata": {},
      "source": [
        "Other useful functions let you specify or coerce a data type into another. `int()`, `float()`, `bool()`, and `str()` let you convert a value to an integer, float, boolean, or string. Let's take a look at how this works for the `int()` and `str()` functions."
      ]
    },
    {
      "cell_type": "code",
      "execution_count": null,
      "metadata": {},
      "outputs": [],
      "source": [
        "print(int(2.1))  # converts 2.1 to integer 2\n",
        "print(str(20))  # converts 20 to string '20'"
      ]
    },
    {
      "attachments": {},
      "cell_type": "markdown",
      "metadata": {},
      "source": [
        "#### In-Class Exercises <a id='homework'></a>\n",
        "\n",
        "The following exercises will help you practice the concepts taught in this lesson.\n",
        "\n",
        "1. Predict (on paper) then confirm in Python the results of these expressions:\n",
        "   1. `1 + 3 * 3`\n",
        "   2. `(1 + 3) * 3`\n",
        "   3. `(4 * 4) + 5`\n",
        "   4. `1 > 3`\n",
        "   5. `\"1\" > \"3\"`  (Which compares the strings lexicographically.)\n",
        "\n",
        "2. **Rectangle area and perimeter**\n",
        "   1. Create two variables, `width` and `height`, and assign them any positive integer values.\n",
        "   2. Compute the area of the rectangle and assign it to a variable called `area`.\n",
        "   3. Compute the perimeter of the rectangle and assign it to a variable called `perimeter`.\n",
        "   4. Print both `area` and `perimeter` in descriptive sentences.\n",
        "\n",
        "3. **Even or odd?**\n",
        "   1. Create a variable `n` and assign it any integer value.\n",
        "   2. Write a one-line expression (without `if`/`else`) that prints \"n is even\" if `n` is even, or \"n is odd\" if `n` is odd.  (Hint: use `(\"even\", \"odd\")[n % 2]`.)\n",
        "   3. Test your code with `n = 42` and `n = 13`.\n"
      ]
    },
    {
      "cell_type": "code",
      "execution_count": null,
      "metadata": {},
      "outputs": [],
      "source": [
        "# Question 1\n",
        "print(1 + 3 * 3)\n",
        "print((1 + 3) * 3)\n",
        "print((4 * 4) + 5)\n",
        "print(1 > 3)\n",
        "print(\"1\" > \"3\")"
      ]
    },
    {
      "cell_type": "code",
      "execution_count": null,
      "metadata": {},
      "outputs": [],
      "source": [
        "# Question 2\n",
        "width = 5  # example value, replace with any positive integer\n",
        "height = 3  # example value, replace with any positive integer\n",
        "area = width * height\n",
        "perimeter = 2 * (width + height)\n",
        "print(f\"Area = {area}\")\n",
        "print(f\"Perimeter = {perimeter}\")"
      ]
    },
    {
      "cell_type": "code",
      "execution_count": null,
      "metadata": {},
      "outputs": [],
      "source": [
        "# Question 3\n",
        "n = 42  # try n = 42 and n = 13\n",
        "print(f\"{n} is {('even', 'odd')[n % 2]}\")"
      ]
    }
  ],
  "metadata": {
    "interpreter": {
      "hash": "c4d4cf0f866ef5d608adbb3b8114bb30b4107b67947e423d500be3fa738ca8f5"
    },
    "kernelspec": {
      "display_name": "Python 3",
      "language": "python",
      "name": "python3"
    },
    "language_info": {
      "codemirror_mode": {
        "name": "ipython",
        "version": 3
      },
      "file_extension": ".py",
      "mimetype": "text/x-python",
      "name": "python",
      "nbconvert_exporter": "python",
      "pygments_lexer": "ipython3",
      "version": "3.8.3"
    },
    "quarto": {
      "format": "live-html",
      "title": "Lesson 1 – Basic Introduction to Programming in Python"
    }
  },
  "nbformat": 4,
  "nbformat_minor": 4
}
