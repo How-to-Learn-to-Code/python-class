{
 "cells": [
  {
   "attachments": {},
   "cell_type": "markdown",
   "metadata": {},
   "source": [
    "[![Open In Colab](https://colab.research.google.com/assets/colab-badge.svg)](https://colab.research.google.com/github/How-to-Learn-to-Code/python-class/blob/master/Lesson_0_Introduction/Lesson_0_Student_Version.ipynb)"
   ]
  },
  {
   "attachments": {},
   "cell_type": "markdown",
   "metadata": {},
   "source": [
    "# Lesson 0 - Basic Introduction to Programming in Python"
   ]
  },
  {
   "attachments": {},
   "cell_type": "markdown",
   "metadata": {},
   "source": [
    "### Learning objectives\n",
    "\n",
    "Students will gain an introduction to programming in python, working in interactive notebooks, and learning how to leverage outside resources for coding help. Moreoever students will gain a basic understanding of variables, data types, and working with simple expressions for comparison and computation.\n",
    "\n",
    "* [Introduction to Programming](#program)\n",
    "* [Introduction to Jupyter and Google Colab](#jupyter)\n",
    "* [Rigor and Reproducibility in your code](#rigor-reproducibility)\n"
   ]
  },
  {
   "attachments": {},
   "cell_type": "markdown",
   "metadata": {},
   "source": [
    "#### Basic Introduction to Programming in Python <a id='program'></a>"
   ]
  },
  {
   "attachments": {},
   "cell_type": "markdown",
   "metadata": {},
   "source": [
    "Python is a general purpose programming language that is widely used in scientific computing, image analysis, machine learning etc. It allows you to specify a set of instructions, written as a script or a program, to execute some task of interest. \n",
    "\n",
    "* Have any of you used a script before? What did you do to run it? What was the purpose of the script? Did it aid in reproducibility? Was it quicker to run or modify than calculating things individually by hand? \n",
    "\n",
    "The purpose of this series of python workshops is not to give you an extensive in depth overview of everything you can do in python. However, we do aim to give you all the skills and terminology necessary to **learn** how to learn to code in python. Google, [stack overflow](https://stackoverflow.com/), and [github issues](https://github.com/)) are invaluable tools you can use to your advantage for (1) gaining coding help and (2) learning how to write code from reading code."
   ]
  },
  {
   "attachments": {},
   "cell_type": "markdown",
   "metadata": {},
   "source": [
    "#### Introduction to Jupyter Notebooks and Google Colab <a id='jupyter'></a>"
   ]
  },
  {
   "attachments": {},
   "cell_type": "markdown",
   "metadata": {},
   "source": [
    "We will be using the online server [Google Collab](https://colab.research.google.com) for learning python. This server creates an isolated \"environment\" for you to work in. Using your Google account (or you will have to create one) open up Google Collab in your web browser. Start a \"new notebook\" to create a new python file.\n",
    "\n",
    "There are many types of files that you can use for Python coding. The most important for you now are :\n",
    "* .py : This is a python script file. All things in this file have to be python code. You would use this file for a complete analysis.\n",
    "* .ipynb : This is a Jupyter Notebook file. Jupyter is a user interface to seemlessly code in python. This worksheet was made in a Jupyter Notebook!"
   ]
  },
  {
   "attachments": {},
   "cell_type": "markdown",
   "metadata": {},
   "source": [
    "\"The Jupyter Notebook is an incredibly powerful tool for interactively developing and presenting data science projects. A notebook integrates code and its output into a single document that combines visualizations, narrative text, mathematical equations, and other rich media. The intuitive workflow promotes iterative and rapid development, making notebooks an increasingly popular choice at the heart of contemporary data science, analysis, and increasingly science at large. \" - [dataquest](https://www.dataquest.io/blog/jupyter-notebook-tutorial/)\n",
    "\n",
    "All of our lessons will be presented in Jupyter notebooks due to their interactive nature (.ipynb file extension). They consist of two main attributes, a `kernel` and `cells`. \n",
    "* A `kernel` interprets and executes the code. Here we are using the kernel for python; however, you can specify a kernel for another language like R. \n",
    "* A `cell` is a container for either text or code to be executed. \n",
    "\n",
    "To run the python code in a cell, you just hit shift + enter. Try it with the code below."
   ]
  },
  {
   "cell_type": "code",
   "execution_count": null,
   "metadata": {},
   "outputs": [],
   "source": [
    "print('hello world')"
   ]
  },
  {
   "attachments": {},
   "cell_type": "markdown",
   "metadata": {},
   "source": [
    "#### Rigor and Reproducibility In Your Code <a id='rigor-reproducibility'></a>"
   ]
  },
  {
   "attachments": {},
   "cell_type": "markdown",
   "metadata": {},
   "source": [
    "Similar to an author writing, a programmer will adopt a style of coding. This can be as small as how many new lines you have between code lines, to the way you comment your code, and how you name your variables. Matching a standard style of code will help make your code more readable and more reproducible. If you continue your coding journey, we recommend the [PEPS Style Guide for Python](https://peps.python.org/pep-0008). Go ahead and look through this resource, but focus on the Commenting, Code Lay-out, and Naming Convention sections. "
   ]
  },
  {
   "attachments": {},
   "cell_type": "markdown",
   "metadata": {},
   "source": [
    "##### Commenting Your Code\n"
   ]
  },
  {
   "attachments": {},
   "cell_type": "markdown",
   "metadata": {},
   "source": [
    "One of the most important things you can do to learn and to help other programmers read your code, is using meaningfull comments. Comments will begin with a # sign within a code chunk. You can have an inline comment, to provide information for a speicifc like of code, or a block of comments to describe a section. You want these comments to be concise but informative. \n",
    "\n",
    "At the begining of every file, use a block of comments to outline the python file youre making. This will also be good practice for documentation for any public code you publish... Like this: "
   ]
  },
  {
   "cell_type": "code",
   "execution_count": null,
   "metadata": {},
   "outputs": [],
   "source": [
    "# File name     : lesson_0_Student_version\n",
    "# Goal          : This script is a practice for the How to Learn to Code class. It is introducing reproducible code using Jupyter notebook and coding styles. \n",
    "# Input         : NA\n",
    "# Output        : NA\n",
    "# Libraries     : NA\n",
    "# Required      : Google account\n"
   ]
  },
  {
   "attachments": {},
   "cell_type": "markdown",
   "metadata": {},
   "source": [
    "Examples of input would be the datasets you need, other files that are used in this script, ect. You also may have figures as outputs, or processed data. List all of these at the top of your code, so that you can find the information quickly when you return. If youre using a notebook file, like you will be in this class, feel free to add this in a \"Markdown\" chunk instead."
   ]
  },
  {
   "attachments": {},
   "cell_type": "markdown",
   "metadata": {},
   "source": [
    "Your inline comments should be added to describe an important line of code. Look at the formatting below:"
   ]
  },
  {
   "cell_type": "code",
   "execution_count": null,
   "metadata": {},
   "outputs": [],
   "source": [
    "i = 2\n",
    "\n",
    "# Good commenting style :\n",
    "\n",
    "if i & (i-1) == 0:  # True if i is 0 or a power of 2.\n",
    "\n",
    "# Bad commenting style : \n",
    "\n",
    "if i & (i-1) == 0: #checking i"
   ]
  },
  {
   "attachments": {},
   "cell_type": "markdown",
   "metadata": {},
   "source": [
    "##### Naming Conventions"
   ]
  },
  {
   "attachments": {},
   "cell_type": "markdown",
   "metadata": {},
   "source": [
    "When you are naming somehting in your code, like a variable here, it is important to follow a few rules:\n",
    "* always start the name with a letter (no numbers or special characters)\n",
    "* never start a name with an underscore (this is reserved for official Python variables nad functions)\n",
    "* avoid long variable names \n",
    "* use a specific naming style (we will use \"snake case\" which is all lowercase, and has an underscore seperating words)"
   ]
  },
  {
   "cell_type": "code",
   "execution_count": null,
   "metadata": {},
   "outputs": [],
   "source": [
    "# Good naming style : \n",
    "\n",
    "apples = ['granny_smith','machintosh','golden_delicious']\n",
    "granny_smith = 'green'\n",
    "machintosh = 'red'\n",
    "golden_delicious = 'yellow'\n",
    "\n",
    "# Bad naming style :\n",
    "\n",
    "list_ofApples=['gs','MACIN','_golden_']\n",
    "gs= 'green'\n",
    "MACIN =\"Red'\n",
    "\n",
    "\n",
    "_Golden='y'"
   ]
  },
  {
   "attachments": {},
   "cell_type": "markdown",
   "metadata": {},
   "source": [
    "Finally, when naming your files, find a format that works well for you, but follow these few rules :\n",
    "* if you start your files with a number, and you expect to have more than 10 (or more than 100) add a zero to the begining of the file name. Computers will treat the number in the name as part of the alphabet, so if you don't do this, the computer orders them incorrectly\n",
    "    * WRONG : 1_facs_data.fcs, 10_facs_data.fcs, 11_facs_data.fcs ... 2_facs data.fcs\n",
    "    * RIGHT : 01_facs_data.fcs, 02_facs_data.fcs, ..... 10_facs_data.fcs\n",
    "    * RIGHT : 001_facs_data.fcs, 02_facs_data.fcs, ..... 010_facs_data.fcs ... 100_facs_data.fcs\n",
    "\n",
    "* never have a space in your file name \n",
    "    * WRONG : facs data.fcs\n",
    "    * RIGHT : facs_data.fcs\n",
    "\n",
    "* For a project, always name your files similar to eachother\n",
    "    * WRONG : 01_facs_data.fcs, facsdata2.fsc, 3_facs_data.fsc, mouse4_facs_data_.fsc"
   ]
  }
 ],
 "metadata": {
  "interpreter": {
   "hash": "c4d4cf0f866ef5d608adbb3b8114bb30b4107b67947e423d500be3fa738ca8f5"
  },
  "kernelspec": {
   "display_name": "Python 3",
   "language": "python",
   "name": "python3"
  },
  "language_info": {
   "codemirror_mode": {
    "name": "ipython",
    "version": 3
   },
   "file_extension": ".py",
   "mimetype": "text/x-python",
   "name": "python",
   "nbconvert_exporter": "python",
   "pygments_lexer": "ipython3",
   "version": "3.8.3"
  }
 },
 "nbformat": 4,
 "nbformat_minor": 4
}
