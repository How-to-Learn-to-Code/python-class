{
 "cells": [
  {
   "cell_type": "markdown",
   "id": "another-deviation",
   "metadata": {},
   "source": [
    "[![Open In Colab](https://colab.research.google.com/assets/colab-badge.svg)](https://colab.research.google.com/github/How-to-Learn-to-Code/python-class/blob/master/Lesson_7_Plotting/plotting_student.ipynb)\n"
   ]
  },
  {
   "cell_type": "markdown",
   "id": "flush-election",
   "metadata": {},
   "source": [
    "# Plotting in Python\n",
    "By the end of the lesson you will learn how to make simple plots using the matplotlib library"
   ]
  },
  {
   "cell_type": "markdown",
   "id": "peaceful-vegetarian",
   "metadata": {},
   "source": [
    "## Learning objectives\n",
    "1. Basics of plotting\n",
    "2. How to scale and color\n",
    "3. Different types of plots\n",
    "    - Scatter plots\n",
    "    - Boxplots\n",
    "    - Histograms\n",
    "4. matplot lib axes\n",
    " \n",
    "We're going to use matplotlib, a Python library used for visualizing data"
   ]
  },
  {
   "cell_type": "code",
   "execution_count": null,
   "id": "infinite-generator",
   "metadata": {},
   "outputs": [],
   "source": [
    "import matplotlib.pyplot as plt"
   ]
  },
  {
   "cell_type": "markdown",
   "id": "designing-aging",
   "metadata": {},
   "source": [
    "First let's create a vector containing values from 0 to 100:"
   ]
  },
  {
   "cell_type": "code",
   "execution_count": null,
   "id": "convinced-course",
   "metadata": {},
   "outputs": [],
   "source": [
    "import numpy as np\n",
    "x = np.arange(0, 100)"
   ]
  },
  {
   "cell_type": "code",
   "execution_count": null,
   "id": "convenient-stevens",
   "metadata": {},
   "outputs": [],
   "source": [
    "plt.plot(x) #use plot to plot our values\n",
    "plt.show() #to show the plot in the notebook"
   ]
  },
  {
   "cell_type": "markdown",
   "id": "drawn-maine",
   "metadata": {},
   "source": [
    "It assumed our single data list to be the y-values and in the absence of an x-values list, [0, 1, 2, 3, ... 100] was used instead"
   ]
  },
  {
   "cell_type": "code",
   "execution_count": null,
   "id": "imported-apache",
   "metadata": {},
   "outputs": [],
   "source": [
    "y = np.arange(0, 1, 0.01)"
   ]
  },
  {
   "cell_type": "code",
   "execution_count": null,
   "id": "american-document",
   "metadata": {},
   "outputs": [],
   "source": [
    "plt.plot(x, y)\n",
    "plt.show()"
   ]
  },
  {
   "cell_type": "markdown",
   "id": "interim-brain",
   "metadata": {},
   "source": [
    "Now we are passing in two lists to ```plt.plot```, which explicitly sets the x-values\n",
    "\n",
    "NOTE: when you pass in two lists to ```plt.plot```, their lengths must match. Here, our lists both contain 100 values"
   ]
  },
  {
   "cell_type": "code",
   "execution_count": null,
   "id": "defensive-asset",
   "metadata": {},
   "outputs": [],
   "source": [
    "y1 = np.arange(0, 1, 0.01)\n",
    "y2 = np.arange(2, 3, 0.01)"
   ]
  },
  {
   "cell_type": "code",
   "execution_count": null,
   "id": "positive-prerequisite",
   "metadata": {},
   "outputs": [],
   "source": [
    "plt.plot(x, y1)\n",
    "plt.plot(x, y2)\n",
    "plt.show()"
   ]
  },
  {
   "cell_type": "markdown",
   "id": "registered-condition",
   "metadata": {},
   "source": [
    "You can plot multiple curves on the same plot, but they have to be all the same length\n",
    "\n",
    "Right now, it's hard to tell by glancing which line belongs to which data. We can add labels and show a legend to make it easier to tell them apart"
   ]
  },
  {
   "cell_type": "code",
   "execution_count": null,
   "id": "controlled-trunk",
   "metadata": {},
   "outputs": [],
   "source": [
    "plt.plot(x, y1, label=\"plot 1\")\n",
    "plt.plot(x, y2, label=\"plot 2\")\n",
    "plt.legend()\n",
    "plt.show()"
   ]
  },
  {
   "cell_type": "markdown",
   "id": "noted-washington",
   "metadata": {},
   "source": [
    "We can also add labels to the axes and a title"
   ]
  },
  {
   "cell_type": "code",
   "execution_count": null,
   "id": "adjusted-resource",
   "metadata": {},
   "outputs": [],
   "source": [
    "plt.plot(x, y1, label=\"plot 1\")\n",
    "plt.plot(x, y2, label=\"plot 2\")\n",
    "plt.xlabel(\"x axis\")\n",
    "plt.ylabel(\"y axis\")\n",
    "plt.title(\"This is a plot of two datasets\")\n",
    "plt.legend()\n",
    "plt.show()"
   ]
  },
  {
   "cell_type": "markdown",
   "id": "alive-vacuum",
   "metadata": {},
   "source": [
    "You can also change the line type (using ```linestyle```) and color (using ```color```)"
   ]
  },
  {
   "cell_type": "code",
   "execution_count": null,
   "id": "crazy-knock",
   "metadata": {},
   "outputs": [],
   "source": [
    "plt.plot(x, y1, linestyle=\":\", label=\"line 1\") #include linestyle to change the appearance of the line\n",
    "plt.plot(x, y2, color=\"red\", label=\"line 2\") #include color to change the line's color\n",
    "plt.xlabel(\"x axis\")\n",
    "plt.ylabel(\"y axis\")\n",
    "plt.title(\"This is a plot of two datasets\")\n",
    "plt.legend()\n",
    "plt.show()"
   ]
  },
  {
   "cell_type": "markdown",
   "id": "polished-distributor",
   "metadata": {},
   "source": [
    "You can change the scaling of either axis by using either ```xlim``` or ```ylim```"
   ]
  },
  {
   "cell_type": "code",
   "execution_count": null,
   "id": "oriented-sleep",
   "metadata": {},
   "outputs": [],
   "source": [
    "plt.plot(x, y1, linestyle=\":\", label=\"line 1\")\n",
    "plt.plot(x, y2, color=\"red\", label=\"line 2\")\n",
    "plt.xlim(0, 60) #sets the lower and upper bound of the x axis\n",
    "plt.ylim(0, 2.5) #sets the lower and upper bound of the y axis\n",
    "plt.xlabel(\"x axis\")\n",
    "plt.ylabel(\"y axis\")\n",
    "plt.title(\"This is a plot of two datasets\")\n",
    "plt.legend()\n",
    "plt.show()"
   ]
  },
  {
   "cell_type": "markdown",
   "id": "purple-start",
   "metadata": {},
   "source": [
    "You can see that this is the same plot as above, except it's more zoomed in because we changed the axes"
   ]
  },
  {
   "cell_type": "markdown",
   "id": "comprehensive-franchise",
   "metadata": {},
   "source": [
    "## Other types of plots in matplotlib"
   ]
  },
  {
   "cell_type": "code",
   "execution_count": null,
   "id": "civic-architecture",
   "metadata": {},
   "outputs": [],
   "source": [
    "# Scatter plot\n",
    "x = np.random.rand(50)\n",
    "y = np.random.rand(50)\n",
    "plt.scatter(x, y)\n",
    "plt.xlabel(\"x axis\")\n",
    "plt.ylabel(\"y axis\")\n",
    "plt.title(\"Scatter plot\")\n",
    "plt.show()"
   ]
  },
  {
   "cell_type": "code",
   "execution_count": null,
   "id": "developmental-least",
   "metadata": {},
   "outputs": [],
   "source": [
    "# Boxplot\n",
    "data = np.random.rand(50)\n",
    "plt.boxplot(data)\n",
    "plt.ylabel(\"y axis\")\n",
    "plt.title(\"Boxplot\")\n",
    "plt.show()"
   ]
  },
  {
   "cell_type": "code",
   "execution_count": null,
   "id": "metropolitan-report",
   "metadata": {},
   "outputs": [],
   "source": [
    "# Multiple boxplots\n",
    "data1 = np.random.rand(50)\n",
    "data2 = np.random.rand(50)\n",
    "\n",
    "# Make a list of the two datasets\n",
    "data = [data1, data2]\n",
    "plt.boxplot(data)\n",
    "plt.ylabel(\"y axis\")\n",
    "plt.title(\"Boxplots for two datasets\")\n",
    "plt.show()"
   ]
  },
  {
   "cell_type": "code",
   "execution_count": null,
   "id": "honest-sheet",
   "metadata": {},
   "outputs": [],
   "source": [
    "# Histogram\n",
    "data = np.random.rand(100)\n",
    "plt.hist(data, bins=10, facecolor='green', edgecolor='black')\n",
    "plt.xlabel(\"x axis\")\n",
    "plt.ylabel(\"y axis\")\n",
    "plt.title(\"Histogram\")\n",
    "plt.show()"
   ]
  },
  {
   "cell_type": "markdown",
   "id": "legitimate-bleeding",
   "metadata": {},
   "source": [
    "# Plotting multiple graphs in one figure\n",
    "In matplotlib, there is a distinction between a \"figure\" and something called an \"axes\" object (see image below). The figure contains your plots and can be made up of more than one plot. Each plot is inside of the axes object. In all examples so far we've only had one plot so there was only one axes object inside of each figure. Think of the figure like a sheet of paper. We can draw multiple plots inside of boxes on the paper. The boxes represent the axes object. \n",
    "![Representation of the figure structure in matplotlib](matplotlib_figure.png)\n",
    "Figure from: https://towardsdatascience.com/what-are-the-plt-and-ax-in-matplotlib-exactly-d2cf4bf164a9"
   ]
  },
  {
   "cell_type": "code",
   "execution_count": null,
   "id": "beneficial-cambridge",
   "metadata": {},
   "outputs": [],
   "source": [
    "num_rows = 2\n",
    "num_cols = 2\n",
    "count = 0\n",
    "\n",
    "fig, axes = plt.subplots(num_rows, num_cols)\n",
    "for row_num in range(num_rows):\n",
    "    for col_num in range(num_cols):\n",
    "        count += 1\n",
    "        ax = axes[row_num][col_num]\n",
    "        ax.scatter(np.random.rand(50), np.random.rand(50))\n",
    "        ax.set_title(f'Subplot {count}') \n",
    "        #set_title is used for an axes object, whereas a plt object uses just title\n",
    "fig.suptitle('Main title')\n",
    "fig.tight_layout()\n",
    "plt.show()\n",
    "\n",
    "#code adapted from above towardsdatascience link"
   ]
  },
  {
   "cell_type": "markdown",
   "id": "starting-career",
   "metadata": {},
   "source": [
    "The above example used iterative plotting to create and plot multiple plots in a ```for``` loop. However, if you have a set of plots already made that you want to include, you can use a different command called ```subplot```. The format is ```plt.subplot(number of rows, number of columns, plot number)```"
   ]
  },
  {
   "cell_type": "code",
   "execution_count": null,
   "id": "together-doubt",
   "metadata": {},
   "outputs": [],
   "source": [
    "plt.figure(figsize=(16, 12)) #to specify how big the figure should be in order to make it readable\n",
    "plt.subplot(3, 1, 1)\n",
    "x = np.random.rand(50)\n",
    "y = np.random.rand(50)\n",
    "plt.scatter(x, y)\n",
    "plt.ylabel(\"y axis\")\n",
    "plt.title(\"Scatter plot\")\n",
    "\n",
    "plt.subplot(3, 1, 2)\n",
    "data = np.random.rand(50)\n",
    "plt.boxplot(data)\n",
    "plt.ylabel(\"y axis\")\n",
    "plt.title(\"Boxplot\")\n",
    "\n",
    "plt.subplot(3, 1, 3)\n",
    "data = np.random.rand(1000)\n",
    "plt.hist(data, bins=10, facecolor='green')\n",
    "plt.xlabel(\"x axis\")\n",
    "plt.ylabel(\"y axis\")\n",
    "plt.title(\"Histogram\")\n",
    "\n",
    "plt.show()"
   ]
  },
  {
   "cell_type": "markdown",
   "id": "arctic-actress",
   "metadata": {},
   "source": [
    "# In class exercise"
   ]
  },
  {
   "cell_type": "code",
   "execution_count": null,
   "id": "congressional-sociology",
   "metadata": {},
   "outputs": [],
   "source": [
    "!pip install wget\n",
    "import wget"
   ]
  },
  {
   "cell_type": "code",
   "execution_count": null,
   "id": "premier-approval",
   "metadata": {},
   "outputs": [],
   "source": [
    "#If running in colab, need to get the IRIS.csv file from github\n",
    "wget.download('https://raw.githubusercontent.com/How-to-Learn-to-Code/python-class/master/Lesson_7_Plotting/IRIS.csv')"
   ]
  },
  {
   "cell_type": "code",
   "execution_count": null,
   "id": "cheap-appointment",
   "metadata": {},
   "outputs": [],
   "source": [
    "# Read in the IRIS.csv dataset (from: https://www.kaggle.com/datasets/arshid/iris-flower-dataset)"
   ]
  },
  {
   "cell_type": "code",
   "execution_count": null,
   "id": "sought-leonard",
   "metadata": {},
   "outputs": [],
   "source": [
    "# Extract the petal_length and petal_width columns"
   ]
  },
  {
   "cell_type": "code",
   "execution_count": null,
   "id": "international-summer",
   "metadata": {},
   "outputs": [],
   "source": [
    "# Make a scatter plot of petal length vs width\n",
    "# Bonus: color the points based on species\n",
    "# Hint: the scatter plot function has a c option to specify color"
   ]
  },
  {
   "cell_type": "code",
   "execution_count": null,
   "id": "corrected-observer",
   "metadata": {},
   "outputs": [],
   "source": [
    "# Label the x axis \"petal length\" and the y axis \"petal width\""
   ]
  },
  {
   "cell_type": "code",
   "execution_count": null,
   "id": "environmental-hawaii",
   "metadata": {},
   "outputs": [],
   "source": [
    "# Title the plot as \"Iris flower petal length vs width\"\n",
    "# If you colored by species, include a legend"
   ]
  }
 ],
 "metadata": {
  "kernelspec": {
   "display_name": "Python 3",
   "language": "python",
   "name": "python3"
  },
  "language_info": {
   "codemirror_mode": {
    "name": "ipython",
    "version": 3
   },
   "file_extension": ".py",
   "mimetype": "text/x-python",
   "name": "python",
   "nbconvert_exporter": "python",
   "pygments_lexer": "ipython3",
   "version": "3.8.5"
  }
 },
 "nbformat": 4,
 "nbformat_minor": 5
}
