{
 "cells": [
  {
   "cell_type": "markdown",
   "metadata": {},
   "source": [
    "[![Open In Colab](https://colab.research.google.com/assets/colab-badge.svg)](https://colab.research.google.com/github/How-to-Learn-to-Code/python-class/blob/master/Lesson_6_NumPy/Lesson_6_NumPy_Student_Version.ipynb)"
   ]
  },
  {
   "cell_type": "markdown",
   "metadata": {},
   "source": [
    "# NumPy\n",
    "\n",
    "The python package **NumPy** is an indespensible tool for efficient data manipulation and numerical processing. \n",
    "It is a highly curated and tested collection of functions centered around the manipulation of thier proprietary data type, the `numpy.array`. \n",
    "The `numpy.array` is similar to the standard `list` type, but it has some important differences that make it particularly useful for generic vector and matrix algebra and element-wise data manipulation.\n",
    "\n",
    "## Learning objectives \n",
    "* What is scientific computing?\n",
    "* What is NumPy?\n",
    "* What are the benefits of NumPy?\n",
    "* What is a `numpy.array`, and why use it?\n",
    "* Where is the NumPy documentation located? Right [here](https://numpy.org/doc/stable/reference/index.html)!\n",
    "\n",
    "## What's the deal with NumPy?\n",
    "\n",
    "[**NumPy**](https://numpy.org/) is the foundational Python package for scientific computing.\n",
    "Scientific computing encompasses any tools, functions, or algorithms that are used to generate or simulate mathematical models and problems. \n",
    "Python in its base form is fine for some data manipulation with support for generic algorithm construction (e.g. loops and function declaration), but as soon as you need to do any mathematics, especially on a large scale (e.g. large data sets), generic Python falls short with respect to efficient built-in functionality.\n",
    "NumPy is a heavily curated and tested package that contains thousands, if not hundreds of thousands, of useful functions for generic mathematical manipulation of your data.\n",
    "This includes general mathematics, like find the natural logarithm, as well as general statistics, like the variance and quanitles.\n",
    "These included functions are also very effienct with respect to compuational time and memory, so they should be used whenever possible.\n",
    "\n",
    "So what makes NumPy so efficient? \n",
    "Part of the efficiency comes from the the fact that the algorithms used behind the scenes are tuned to be as efficient as possible by dedicated computer scientists.\n",
    "Another reason that the code is efficient is that large chunks of the code are written in *C* and *C++* rather than in Python.\n",
    "A pre-compiled *C* or *C++* function is called by NumPy to execute your code, and the results are passed back to you in Python. \n",
    "It is not necessarily important to understand why this is more efficient, but it is important to point out that it is done in this manner because it is more efficient than strictly using Python.\n",
    "They are playing 4-dimensional chess while you are playing checkers, metaphorically, so there is no use in reinvinteing the wheel with respect to creating homemade functions.\n",
    "\n",
    "A final reason that NumPy is so efficient is the introduction of the `numpy.array`.\n",
    "The `numpy.array` is a generic n-dimensional array object.\n",
    "The easiest way to think about it is that a `numpy.array` is an n-dimensional matrix which can be used to store and manipulate your data or just do simple matrix and vector algebra.\n",
    "The reason this object is more efficient than the standard Python `list` is how the memory is stored in each case.\n",
    "In a standard `list` all of the members are stored in random spots in memory, so when they need to be accessed, the computer has to search around for them.\n",
    "In a `numpy.array` all of the data points are stored in sequential memory.\n",
    "This means that if you are at a point in your array, `my_array[a][b][c]`, and want to access the adjacent piece of data, `my_array[a][b][c+1]`, the computer can just accesses the adjacent memory address instead of searching through all of the memory for the correct piece of data.\n",
    "In the previous example `my_array` designates a 3-dimensional array as seen by the three different indexes following the `my_array` call.\n",
    "Most functions in Numpy are built around manipulating these objects, and are coded in such a way as to take advantage of the memory allocation in an optimal way, and are therefore very efficient.\n",
    "\n",
    "In order to demonstrate the power of NumPy, we can start with the standard dot product. In the code block below we generate two vectors of length 1000 and store them in `numpy.array` objects and `list` objects. We create a generic function, `my_dot_0`, that takes the dot product of two input vectors using a standard for loop. We then time the output.  "
   ]
  },
  {
   "cell_type": "code",
   "execution_count": 1,
   "metadata": {},
   "outputs": [
    {
     "name": "stdout",
     "output_type": "stream",
     "text": [
      "list time for my_dot_0:\n",
      "3.3 ms ± 305 µs per loop (mean ± std. dev. of 7 runs, 10 loops each)\n",
      "\n",
      "np.array time for my_dot_0:\n",
      "4.89 ms ± 493 µs per loop (mean ± std. dev. of 7 runs, 10 loops each)\n"
     ]
    }
   ],
   "source": [
    "# np is the standard abbreviation for numpy\n",
    "import numpy as np \n",
    " \n",
    "# This example uses the random package so setting the seed ensures\n",
    "# we get the same result every time we run this block.\n",
    "np.random.seed(5)\n",
    "        \n",
    "# generic code block to run a dot product with any array like object\n",
    "def my_dot_0(a0, a1):\n",
    "    dot = 0\n",
    "    for i in range(len(a0)):\n",
    "        dot += a0[i] * a1[i]\n",
    "    return dot\n",
    "\n",
    "# create the vectors as numpy arrays\n",
    "# np.random.randn is the normal distribution with the number\n",
    "# in the parentheses indicating the size of the array you want\n",
    "A_arr = np.random.randn(10000)\n",
    "B_arr = np.random.randn(10000)\n",
    "\n",
    "# copy the vectors as lists\n",
    "A_list = list(A_arr)\n",
    "B_list = list(B_arr)\n",
    "\n",
    "# %timeit is a built it jupyter notebook function for timing functions easily\n",
    "# -n 10 is a statement about how many runs it will use for the time output\n",
    "# tmp is a placeholder variable to prevent output clutter\n",
    "print(\"list time for my_dot_0:\")\n",
    "%timeit -n 10 tmp = my_dot_0(A_list, B_list)\n",
    "print(\"\\nnp.array time for my_dot_0:\")\n",
    "%timeit -n 10 tmp = my_dot_0(A_arr, B_arr)"
   ]
  },
  {
   "cell_type": "markdown",
   "metadata": {},
   "source": [
    "In a surprise result, seemingly contrary to everything previously stated, the `list` manipulation came out faster than the manipulation using the `numpy.array`. \n",
    "The small caveat is that the `numpy.array` object is built for speed when used with NumPy's built in functions. \n",
    "We can try the test again, but this time we use some built in functions from NumPy to clean up the function definition and improve our results, hopefully."
   ]
  },
  {
   "cell_type": "code",
   "execution_count": 2,
   "metadata": {},
   "outputs": [
    {
     "name": "stdout",
     "output_type": "stream",
     "text": [
      "list time for my_dot_1:\n",
      "1.49 ms ± 171 µs per loop (mean ± std. dev. of 7 runs, 10 loops each)\n",
      "\n",
      "np.array time for my_dot_1:\n",
      "21.8 µs ± 14.5 µs per loop (mean ± std. dev. of 7 runs, 10 loops each)\n"
     ]
    }
   ],
   "source": [
    "# using built in NumPy functions\n",
    "# np.multiply does element-wise multiplication\n",
    "# np.sum adds the elements of the array together \n",
    "def my_dot_1(a0, a1):\n",
    "    return np.sum(np.multiply(a0, a1))\n",
    "\n",
    "print(\"list time for my_dot_1:\")\n",
    "%timeit -n 10 tmp = my_dot_1(A_list, B_list)\n",
    "print(\"\\nnp.array time for my_dot_1:\")\n",
    "%timeit -n 10 tmp = my_dot_1(A_arr, B_arr)"
   ]
  },
  {
   "cell_type": "markdown",
   "metadata": {},
   "source": [
    "That's more like it! \n",
    "Notice that the `list` speed sees some improvement using the built in NumPy functions as well, but certainly not as much as the `numpy.array`. \n",
    "In general the NumPy functions can handle generic `list` types, but the full potential is unlocked with the `numpy.array` type.\n",
    "For this final speed test, we can use the the totally pre-built `numpy.dot` function and check out the speed."
   ]
  },
  {
   "cell_type": "code",
   "execution_count": 3,
   "metadata": {},
   "outputs": [
    {
     "name": "stdout",
     "output_type": "stream",
     "text": [
      "list time for np.dot:\n",
      "2.97 ms ± 399 µs per loop (mean ± std. dev. of 7 runs, 10 loops each)\n",
      "\n",
      "np.array time for np.dot:\n",
      "The slowest run took 14.49 times longer than the fastest. This could mean that an intermediate result is being cached.\n",
      "15.5 µs ± 24.2 µs per loop (mean ± std. dev. of 7 runs, 10 loops each)\n"
     ]
    }
   ],
   "source": [
    "print(\"list time for np.dot:\")\n",
    "%timeit -n 10 tmp = np.dot(A_list, B_list)\n",
    "print(\"\\nnp.array time for np.dot:\")\n",
    "%timeit -n 10 tmp = np.dot(A_arr, B_arr)"
   ]
  },
  {
   "cell_type": "markdown",
   "metadata": {},
   "source": [
    "Will you look at that! \n",
    "The totally pre-built function is even faster than our last test with the two different functions. \n",
    "Notice that the `list` test really struggles, comparitively, with this function. \n",
    "Together, all of these speed tests should highlight:\n",
    "1. NumPy functions are very efficient.\n",
    "2. NumPy functions are relatively easy to use and clean up your code.\n",
    "3. NumPy functions work best with `numpy.array` objects.\n",
    "4. If you can find a NumPy function to handle your `numpy.array` objects, you should use it rather than trying to build your own function.\n",
    "\n",
    "## What's the deal with NumPy arrays?\n",
    "\n",
    "Now that we know why we should use the humble `numpy.array`, we should probably learn how to use this object.\n",
    "As mentioned previously is, it is very similar to you standard `list` with a few built in features that make it easier to use in a a numerical sense.\n",
    "The first feature that is crucial is that unlike a list all of the rows/columns should have the same length, much like any matrix you would normally deal with.\n",
    "This means that `numpy.array` are best suited for comparing tests or doing data manipulation on data that would fit into a traditional n-dimensional matrix. \n",
    "Below is an example of a data set that is fine in a `list` but should be avoided in a `numpy.array`.\n",
    "Python will throw a warning that this functionality is depricated (outdated, no longer supported)."
   ]
  },
  {
   "cell_type": "code",
   "execution_count": 4,
   "metadata": {},
   "outputs": [
    {
     "name": "stdout",
     "output_type": "stream",
     "text": [
      "[[0, 1, 1], [2, 3]]\n"
     ]
    },
    {
     "name": "stderr",
     "output_type": "stream",
     "text": [
      "/home/marshall/.local/lib/python3.6/site-packages/ipykernel_launcher.py:3: VisibleDeprecationWarning: Creating an ndarray from ragged nested sequences (which is a list-or-tuple of lists-or-tuples-or ndarrays with different lengths or shapes) is deprecated. If you meant to do this, you must specify 'dtype=object' when creating the ndarray\n",
      "  This is separate from the ipykernel package so we can avoid doing imports until\n"
     ]
    }
   ],
   "source": [
    "my_list = [[0, 1, 1], [2, 3]]\n",
    "print(my_list)\n",
    "my_matrix = np.array(my_list)"
   ]
  },
  {
   "cell_type": "markdown",
   "metadata": {},
   "source": [
    "Now that we know what data works best in a `numpy.array`, we can look into how to build these arrays.\n",
    "In the first example we will look at how to make a (2,3,4) matrix that is filled with 0s for simplicity.\n",
    "In this case we use the built in `shape` attribute of the array to check its dimensions."
   ]
  },
  {
   "cell_type": "code",
   "execution_count": 5,
   "metadata": {},
   "outputs": [
    {
     "name": "stdout",
     "output_type": "stream",
     "text": [
      "a0 shape = (2, 3, 4) , a1 shape = (2, 3, 4) , a2 shape = (2, 3, 4) \n",
      "\n",
      "the above arrays have dimension 3 \n",
      "\n",
      "[[ 0  1  2  3]\n",
      " [ 4  5  6  7]\n",
      " [ 8  9 10 11]]\n"
     ]
    }
   ],
   "source": [
    "# can make an array of any size filled with \n",
    "a0 = np.zeros((2, 3, 4)) # just outputs 0s for the shape that you tell it\n",
    "a1 = np.array([[[0, 0, 0, 0], [0, 0, 0, 0], [0, 0, 0, 0]], [[0, 0, 0, 0], [0, 0, 0, 0], [0, 0, 0, 0]]])\n",
    "a2 = np.array([0, 0, 0, 0, 0, 0, 0, 0, 0, 0, 0, 0, 0, 0, 0, 0, 0, 0, 0, 0, 0, 0, 0, 0])\n",
    "a2.resize((2, 3, 4)) # resize changes the shape of the original array, this can be called on any array\n",
    "\n",
    "#check that the shapes are equivalent\n",
    "print('a0 shape =',a0.shape,', a1 shape =', a1.shape,', a2 shape =', a2.shape,'\\n')\n",
    "\n",
    "# sanity check on the dimensions of the above arrays\n",
    "print('the above arrays have dimension', a0.ndim, '\\n')\n",
    "\n",
    "# this how the resize works with respect to rows/columns in that it starts by filling rows\n",
    "# np.arange creates an array with 12 numbers from 0-11\n",
    "a3 = np.arange(12)\n",
    "a3.resize((3, 4))\n",
    "print(a3)"
   ]
  },
  {
   "cell_type": "markdown",
   "metadata": {},
   "source": [
    "At some point it might also be helpful to sort data within an array, find specific instances of things within an array, delete rows or columns, or add data. \n",
    "This can all be done using NumPy's built in functions as well. \n",
    "In the following example we will try to use NumPy to manipulate a data set in a way that would be potentially be useful for your own data. \n",
    "We can also run some simple statistics for fun!"
   ]
  },
  {
   "cell_type": "code",
   "execution_count": 6,
   "metadata": {},
   "outputs": [
    {
     "name": "stdout",
     "output_type": "stream",
     "text": [
      "the location of the NaN is (3, 5) \n",
      "\n",
      "row 2 mean = 0.02053209316073448 and variance = 1.0315188879373587\n",
      "row 4 mean = -0.10027662190124971 and variance = 0.8912458143138923\n"
     ]
    },
    {
     "data": {
      "image/png": "[encoded data removed]",
      "text/plain": [
       "<Figure size 432x288 with 1 Axes>"
      ]
     },
     "metadata": {
      "needs_background": "light"
     },
     "output_type": "display_data"
    }
   ],
   "source": [
    "# generate a 5x30 array full or of random numbers\n",
    "a0 = np.random.randn(5, 300)\n",
    "\n",
    "# pretend that one of the data points was unfilled, or a NaN\n",
    "a0[3][5] = np.nan\n",
    "\n",
    "# we want to be able to find that nan\n",
    "# np.isnan sets all instances of nan to true within the array, everything else is false\n",
    "# np.where generates a tuple of arrays that show the indices of where the trues are located\n",
    "# the tuple that np.where generates will always have the same dimension as the array queried\n",
    "where_nan = np.where(np.isnan(a0))\n",
    "# we are using NaN in this example but you could use any generic conditional to check\n",
    "where_negative = np.where(a0 < 0.)\n",
    "\n",
    "# here is a way you could print out the ordered pairs of where the nans were located\n",
    "for i in range(len(where_nan[0])):\n",
    "    print('the location of the NaN is',(where_nan[0][i],where_nan[1][i]),'\\n')\n",
    "    \n",
    "# since the NaN would mess up our data we want to delete the row it is located in\n",
    "row_delete = np.delete(a0, where_nan[0], 0)\n",
    "# we could do the same thing if we wanted the column gone instead\n",
    "col_delete = np.delete(a0, where_nan[0], 1)\n",
    "# we could also replace the nan with a 0 if we knew what that value should be \n",
    "# the tilde (~) flips the boolean values since np.where replaces false not true\n",
    "# unlike the previous np.where usage, this outputs our original array with replacements\n",
    "# instead of a tuple. This has to do with the arguments fed into the function. \n",
    "# The NumPy documentation is wonderful and should be consulted regularly.\n",
    "replace_nan = np.where(~np.isnan(a0), a0, 0.)\n",
    "\n",
    "# let's plot some of the data we generated\n",
    "# first we import the plotting package\n",
    "%pip install matplotlib\n",
    "import matplotlib.pyplot as plt\n",
    "\n",
    "# we then want to plot the distribution of the 2nd and 4th rows\n",
    "# we can take extract the rows using standard indexing\n",
    "# we then have to take the transpose of the data so that the plt.hist function will read the data correctly\n",
    "hist = plt.hist(np.transpose(replace_nan[[1, 3]]), [-3, -2, -1, 0, 1, 2, 3])\n",
    "plt.legend([\"$2^{nd}$ row\",\"$4^{th}$ row\"])\n",
    "\n",
    "# we can output the mean and variance as well to see if it matches the expected 0,1\n",
    "mean = np.average(replace_nan[[1 ,3]], axis = 1)\n",
    "variance = np.var(replace_nan[[1, 3]], axis = 1)\n",
    "rows = [2, 4]\n",
    "for i in range(2):\n",
    "    print('row', rows[i], 'mean =',mean[i], 'and variance =', variance[i])"
   ]
  },
  {
   "cell_type": "markdown",
   "metadata": {},
   "source": [
    "# In class exercise"
   ]
  },
  {
   "cell_type": "markdown",
   "metadata": {},
   "source": [
    "In this exercise we will walk through some of the stuff we have covered previously and introduce some new helper functions that should be useful for most people.\n",
    "In general we will have an \"expected\" response curve, we will generate some data with noise, and then we will compare the noisy data to the expected response.\n",
    "We are going to pretend that we are doing some sampling every 0.01s between 0.0s and 1.0s, and this will be our independent variable space, or our time domain.\n",
    "We will start with generating the independent variable space using two different methods, using `np.arange` and `np.linspace`.\n",
    "They are both useful, but sometimes one is better than the other depending on the context.\n",
    "**For the exercise there will be a '''statement'''. \n",
    "The quotations and the statement should be correct answer to make the code run."
   ]
  },
  {
   "cell_type": "code",
   "execution_count": 54,
   "metadata": {},
   "outputs": [
    {
     "name": "stdout",
     "output_type": "stream",
     "text": [
      "The step size is 0.01\n",
      "The final step is at 1.0\n"
     ]
    }
   ],
   "source": [
    "# we will start with generating an array that goes from 0-1 with a step size of 0.01\n",
    "# np.linspace, as well as np.arange, but the work in slightly different ways\n",
    "# np.linspace always includes the start and stop values, but the step size is variable\n",
    "# in all cases replace the '''comment''' with the appropriate answer\n",
    "t_linspace = np.linspace(0., 1., '''number of time steps here''') \n",
    "\n",
    "# np.arange always includes the start value with the specified step value, but may not include the \n",
    "# wanted last step\n",
    "t_arange = np.arange(0., '''end of range value''', 0.01)  \n",
    "\n",
    "# make sure the outputs are correct\n",
    "print('The step size is', t_linspace[1] - t_linspace[0]) # uses np.linspace output\n",
    "print('The final step is at', t_arange[-1])   # uses np.arange output\n",
    "t = t_linspace # specify t for later use now that we have checked both"
   ]
  },
  {
   "cell_type": "markdown",
   "metadata": {},
   "source": [
    "Now that we have generated our independent variable space, we can specify what our expected response function should look like. \n",
    "In our case we would like to generate the following curve that we can pretend is expected position, *y*, given a time value, *t*, from our time domain. \n",
    "\n",
    "$y = 0.5 e^{t^2} + 1.5$"
   ]
  },
  {
   "cell_type": "code",
   "execution_count": 41,
   "metadata": {},
   "outputs": [
    {
     "data": {
      "image/png": "[encoded data removed]",
      "text/plain": [
       "<Figure size 432x288 with 1 Axes>"
      ]
     },
     "metadata": {
      "needs_background": "light"
     },
     "output_type": "display_data"
    }
   ],
   "source": [
    "# this is fairly straight forward as you can use generic python syntax for everything but the exponential\n",
    "# the only numpy specific function you might need is np.exp for the exponential\n",
    "expected_response = '''appropriate response function'''\n",
    "\n",
    "# plot expected curve\n",
    "fig = plt.plot(t, expected_response)\n",
    "plt.title('expected response curve')\n",
    "plt.xlabel('time')\n",
    "plt.ylabel('position');"
   ]
  },
  {
   "cell_type": "markdown",
   "metadata": {},
   "source": [
    "Now that we have our expected value we can simulate noise in our data. \n",
    "We will do this through introducing random values such that the average should replicate our data.\n",
    "Below we have *N* represent the normal distribution.\n",
    "The `np.random.randn` function is N(0,1), and the transformation to the correct Normal distribution space is included below since this is not a statistics course. \n",
    "We will generate 50 samples of the same length as our *t* vector.\n",
    "\n",
    "$t_{rand} = t * N_{mult}(\\mu = 1, \\sigma^2 = 0.001) + N_{add}(\\mu = 0, \\sigma^2 = 0.005)$"
   ]
  },
  {
   "cell_type": "code",
   "execution_count": 42,
   "metadata": {},
   "outputs": [
    {
     "data": {
      "image/png": "[encoded data removed]",
      "text/plain": [
       "<Figure size 432x288 with 1 Axes>"
      ]
     },
     "metadata": {
      "needs_background": "light"
     },
     "output_type": "display_data"
    }
   ],
   "source": [
    "# create the two random arrays of shape 50 x length of the time domain\n",
    "mult_rand = np.sqrt(0.001) * '''random Numpy function of correct dimension''' + 1.\n",
    "add_rand = np.sqrt(0.005) * '''random Numpy function of correct dimension'''\n",
    "\n",
    "# add noise to the t variable, this will come directly from the equation above\n",
    "# it's a linear transformation of a*t + b, but using the appropriate NumPy syntax\n",
    "t_rand = '''appropriate linear function'''\n",
    "\n",
    "# use the same syntax as before to process the randomized time data\n",
    "# this should be a direct copy from what you have in the previous code snippet\n",
    "random_response = '''same response function as before but acted on t_rand'''\n",
    "\n",
    "# find the min, max, and average response at each time step\n",
    "r_max = np.max(random_response, axis = '''appropirate index that represents the row axis''')  \n",
    "r_min = np.min(random_response, axis = '''appropirate index that represents the row axis''')\n",
    "r_avg = np.mean(random_response, axis = '''appropirate index that represents the row axis''')\n",
    "\n",
    "# this plots the output generated above as \n",
    "fig = plt.plot(t, expected_response, 'k--', t, r_avg, 'r')\n",
    "plt.fill_between(t, r_min, r_max, alpha = 0.3)\n",
    "plt.legend(['Expected', 'Generated Mean', 'Min/Max Range'], loc = 'upper left')\n",
    "plt.xlabel('time')\n",
    "plt.ylabel('position');"
   ]
  },
  {
   "cell_type": "markdown",
   "metadata": {},
   "source": [
    "Let's finally do some procesing so we can finalize our data for output!\n",
    "We can pretend that the 8th and 23rd sample ranges were done by a trainee that had set the sample frequency to be a little too slow.\n",
    "We are also limited by our instruments in that they are unreliable when the position is greater than 3.25 so we will remove any samples that reached more than 3.25 at any time in the experiment.\n",
    "**Side note:** this is not a real example, and data should only be excluded when appropriate."
   ]
  },
  {
   "cell_type": "code",
   "execution_count": 55,
   "metadata": {},
   "outputs": [
    {
     "name": "stdout",
     "output_type": "stream",
     "text": [
      "The number of samples left after removing the bad trainee data is 48\n",
      "The number of samples left after removing the data > 3.25 is 36\n",
      "our final_data for output has shape (52, 101)\n"
     ]
    },
    {
     "data": {
      "image/png": "[encoded data removed]",
      "text/plain": [
       "<Figure size 432x288 with 1 Axes>"
      ]
     },
     "metadata": {
      "needs_background": "light"
     },
     "output_type": "display_data"
    }
   ],
   "source": [
    "# remove the 8th and 23rd sample rows from the data\n",
    "exclude_data = np.delete(random_response, ['''8th row index''', '''23rd row index'''], axis = 0)\n",
    "\n",
    "# store the number of samples left over after removing the bad trainee data\n",
    "# this should be equal to the number of rows left over in the data\n",
    "number_of_samples = exclude_data.shape['''row index''']\n",
    "print('The number of samples left after removing the bad trainee data is', number_of_samples)\n",
    "\n",
    "# we need to find where the remaining data exceeds 3.25, and then delete those rows\n",
    "# we will then re calculate the number of samples to get an idea for how many samples were removed by this filter\n",
    "too_big_indices = np.'''find things function'''('''data set that excludes the bad data''' > '''appropriate upper bound''')\n",
    "exclude_data = np.'''remove stuff function'''(exclude_data, '''tuple that we can find the correct rows from'''[0], axis = 0)\n",
    "number_of_samples = exclude_data.'''correct statement that will only give us the number of rows'''\n",
    "print('The number of samples left after removing the data > 3.25 is', number_of_samples)\n",
    "\n",
    "# this replots the data to show the results\n",
    "# any large peaks should be gone now\n",
    "r_max = '''steal from before but with the processed data'''\n",
    "r_min = '''steal from before but with the processed data'''\n",
    "r_avg = '''steal from before but with the processed data'''\n",
    "fig = plt.plot(t, expected_response, 'k--', t, r_avg, 'r')\n",
    "plt.fill_between(t, r_min, r_max, alpha = 0.3)\n",
    "plt.legend(['Expected', 'Filtered Mean', 'Min/Max Range'],loc = 'upper left')\n",
    "plt.xlabel('time')\n",
    "plt.ylabel('position');\n",
    "\n",
    "# in this final step we will at the time domain on top of rest of the data set \n",
    "# this will allow us to save the data in one large array rather than an array for the time\n",
    "# and an array for the pre-filtered data\n",
    "\n",
    "# a subtlety of NumPy is that ranges have dimension 1, while our response has two dimensions\n",
    "# in order for the append function to work we have to make our time domain two dimensional\n",
    "# which is just 1 x number of time points\n",
    "# we use reshape here instead of resize because resize will change the original t data\n",
    "# while reshape will just output a new array of the correct shape\n",
    "t_vec = t.reshape(['''new two dimensional shape of t''']) \n",
    "\n",
    "# now we can use append to add the sampled data to the end of the time domain\n",
    "final_data = np.append('''right t data set''','''full response data''', axis = '''row index''')\n",
    "\n",
    "# this step we realize it might be nice to include the expected response in the output as well\n",
    "# so it does not have to be generated again later\n",
    "final_data = np.insert('''finalized data''', '''index that we want to insert the expected data before''', '''expected data''', axis = 0)\n",
    "          \n",
    "# so the rows should look like 1: time, 2: expected response, 3-52: sampled data\n",
    "# step just checks that our final data has the correct shape, 52 x number of time steps\n",
    "print('our final_data for output has shape', '''shape of the final data set''')"
   ]
  },
  {
   "cell_type": "markdown",
   "metadata": {},
   "source": [
    "# Homework"
   ]
  },
  {
   "cell_type": "markdown",
   "metadata": {
    "collapsed": true
   },
   "source": [
    "Here is a website that goes through a good sample of NumPy [problems](https://www.w3schools.com/python/numpy/numpy_exercises.asp). \n",
    "It covers some functions that this lesson did not explicitly cover as this lesson tried to introduce some more advanced attributes of NumPy that might be immediately relevant for your data processing."
   ]
  },
  {
   "cell_type": "code",
   "execution_count": null,
   "metadata": {},
   "outputs": [],
   "source": []
  }
 ],
 "metadata": {
  "anaconda-cloud": {},
  "kernelspec": {
   "display_name": "Python 3",
   "language": "python",
   "name": "python3"
  },
  "language_info": {
   "codemirror_mode": {
    "name": "ipython",
    "version": 3
   },
   "file_extension": ".py",
   "mimetype": "text/x-python",
   "name": "python",
   "nbconvert_exporter": "python",
   "pygments_lexer": "ipython3",
   "version": "3.6.9"
  },
  "toc": {
   "colors": {
    "hover_highlight": "#DAA520",
    "navigate_num": "#000000",
    "navigate_text": "#333333",
    "running_highlight": "#FF0000",
    "selected_highlight": "#FFD700",
    "sidebar_border": "#EEEEEE",
    "wrapper_background": "#FFFFFF"
   },
   "moveMenuLeft": true,
   "nav_menu": {
    "height": "104px",
    "width": "251px"
   },
   "navigate_menu": true,
   "number_sections": true,
   "sideBar": true,
   "threshold": 4,
   "toc_cell": false,
   "toc_section_display": "block",
   "toc_window_display": false,
   "widenNotebook": false
  }
 },
 "nbformat": 4,
 "nbformat_minor": 1
}
